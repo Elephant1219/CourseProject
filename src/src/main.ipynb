## Step 1: Load and preprocess data
## Step 2: TF-IDF feature engineering
## Step 3: Decision Tree training
## Step 4: Evaluation (metrics + confusion matrix)
## Step 5: Interpretation and future work
